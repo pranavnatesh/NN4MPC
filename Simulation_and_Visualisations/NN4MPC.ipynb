{
 "cells": [
  {
   "cell_type": "code",
   "execution_count": null,
   "id": "747b6d5c-6bc6-4a2e-bb53-d75a824d591a",
   "metadata": {},
   "outputs": [],
   "source": [
    "import numpy as np\n",
    "import scipy.signal\n",
    "import matplotlib.pyplot as plt\n",
    "import tensorflow as tf\n",
    "import pandas as pd"
   ]
  },
  {
   "cell_type": "code",
   "execution_count": null,
   "id": "5f51f6fc-2d23-4e10-9c24-f6212a902069",
   "metadata": {},
   "outputs": [],
   "source": [
    "# Select Neural Network Models\n",
    "\n",
    "\n",
    "## CHOOSE INITIAL STATE -- WILL APPLY TO ALL MODELS\n",
    "initial_state = np.array([[0],[0]])\n",
    "\n",
    "## PLOTTING X AXIS LIMITS\n",
    "x_min = 0\n",
    "x_max = 40\n",
    "\n",
    "## TOLERANCE FOR SETTLING TIME CALCULATION\n",
    "tolerance_percentage = 0.01"
   ]
  },
  {
   "cell_type": "code",
   "execution_count": null,
   "id": "768e1d3b-3a1a-4576-a1c6-d5011cf56ea4",
   "metadata": {},
   "outputs": [],
   "source": [
    "# Circuit Parameters\n",
    "R1 = 8.9\n",
    "C1 = 220e-6\n",
    "L1 = 1e-4\n",
    "v_i = 12\n",
    "Ts = 2e-5\n",
    "\n",
    "# Continuous-Time State Space Equations\n",
    "Ac = np.array([[0, -1/L1], [1/C1, -1/(R1*C1)]])\n",
    "Bc = np.array([[1/L1], [0]])\n",
    "Cc = np.eye(Ac.shape[0])\n",
    "\n",
    "# Discrete-Time State Space Equations\n",
    "Ad, Bd, _, _, _ = scipy.signal.cont2discrete((Ac, Bc, Cc, 0), Ts)\n",
    "inv_Ad = np.linalg.inv(Ad)"
   ]
  },
  {
   "cell_type": "code",
   "execution_count": null,
   "id": "dd9c0f01-c666-4521-b383-f396678041f5",
   "metadata": {},
   "outputs": [],
   "source": [
    "def predict_and_store_history(model_path, state_history, prediction_history):\n",
    "    loaded_model = tf.keras.models.load_model(model_path)\n",
    "\n",
    "    state = initial_state\n",
    "    state_old = initial_state\n",
    "\n",
    "    predictions = np.zeros((1, 1))\n",
    "    state_history.append(state.tolist())\n",
    "    prediction_history.append(predictions.tolist())\n",
    "\n",
    "    for i in range(1, len(time_steps)):\n",
    "        input_data = np.hstack((state.reshape(1, -1), state_old.reshape(1, -1)))\n",
    "        predictions = loaded_model.predict(input_data, verbose=0)\n",
    "        \n",
    "        state_old = state\n",
    "        state = np.dot(Ad, state) + np.dot(Bd, predictions)\n",
    "\n",
    "        state_history.append(state.tolist())\n",
    "        prediction_history.append(predictions.tolist())\n",
    "\n",
    "    state_history = np.array(state_history)\n",
    "    prediction_history = np.array(prediction_history).reshape(-1, 1)\n",
    "    \n",
    "    return state_history, prediction_history\n",
    "\n",
    "# state_history_PH2 = []\n",
    "# prediction_history_PH2 = []\n",
    "# state_history_PH2, prediction_history_PH2 = predict_and_store_history(PH2, state_history_PH2, prediction_history_PH2)"
   ]
  },
  {
   "cell_type": "code",
   "execution_count": null,
   "id": "e5013dc9-0998-4dc4-9f09-d14fcbcb3c0d",
   "metadata": {},
   "outputs": [],
   "source": [
    "fig, axes = plt.subplots(1, 3, figsize=(18, 6))\n",
    "\n",
    "# PLOT 1: Closed Loop Simulation with Prediction Horizon of 2\n",
    "axes[0].plot(time_steps, state_history_PH2[:, 0], label='State 1: i_L [A]')\n",
    "axes[0].plot(time_steps, state_history_PH2[:, 1], label='State 2: v_C [V]')\n",
    "axes[0].step(time_steps, prediction_history_PH5, label='Vin [V]', linestyle='--')\n",
    "axes[0].set_xlabel('Iterations')\n",
    "axes[0].set_ylabel('Value')\n",
    "axes[0].set_title('State Evolution and NN_PH2 Control Actions')\n",
    "axes[0].legend()\n",
    "axes[0].grid(True, which='both', linestyle='--', linewidth=0.5)\n",
    "axes[0].minorticks_on()\n",
    "axes[0].set_xlim(x_min, x_max)\n",
    "\n",
    "plt.tight_layout()\n",
    "plt.show()"
   ]
  },
  {
   "cell_type": "code",
   "execution_count": null,
   "id": "b3be24d1-63c4-4170-839f-bf5645a49e55",
   "metadata": {},
   "outputs": [],
   "source": [
    "def compute_settling_time(state_history, time_steps, tolerance_percentage, Ts):\n",
    "    final_value_voltage = state_history[-1, 1]\n",
    "    tolerance = tolerance_percentage * abs(final_value_voltage)\n",
    "    settled = np.abs(state_history[:, 1] - final_value_voltage) <= tolerance\n",
    "\n",
    "    for i in range(len(settled)):\n",
    "        if all(settled[i:]):\n",
    "            settling_time_index = i\n",
    "            settling_time_seconds = time_steps[i] * Ts\n",
    "            break\n",
    "    else:\n",
    "        settling_time_index = settling_time_seconds = None\n",
    "\n",
    "    return settling_time_index, settling_time_seconds, final_value_voltage, state_history[-1, 0]\n",
    "\n",
    "time_results = [\n",
    "    compute_settling_time(state_history, time_steps, tolerance_percentage, Ts)\n",
    "    for state_history in [\n",
    "        state_history_PH2\n",
    "    ]\n",
    "]\n",
    "\n",
    "data = {\n",
    "    \"Prediction Horizon\": [\"2\", \"5\", \"10\", \"10F\", \"10F2\",\"50\", \"100\", \"PH10F2_Mini\"],\n",
    "    \"Settling Time [# Iterations]\": [res[0] for res in time_results],\n",
    "    \"Settling Time [s]\": [res[1] for res in time_results],\n",
    "    \"Final Voltage [V]\": [res[2].item() for res in time_results],\n",
    "    \"Final Current [A]\": [res[3].item() for res in time_results],\n",
    "}\n",
    "\n",
    "df = pd.DataFrame(data)\n",
    "df_style = df.style.set_properties(**{'text-align': 'center'})\n",
    "df_style = df_style.set_table_styles([dict(selector='th', props=[('text-align', 'center')])])\n",
    "display(df_style)"
   ]
  }
 ],
 "metadata": {
  "kernelspec": {
   "display_name": "Python 3 (ipykernel)",
   "language": "python",
   "name": "python3"
  },
  "language_info": {
   "codemirror_mode": {
    "name": "ipython",
    "version": 3
   },
   "file_extension": ".py",
   "mimetype": "text/x-python",
   "name": "python",
   "nbconvert_exporter": "python",
   "pygments_lexer": "ipython3",
   "version": "3.10.13"
  }
 },
 "nbformat": 4,
 "nbformat_minor": 5
}
