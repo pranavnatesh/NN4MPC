{
 "cells": [
  {
   "cell_type": "code",
   "execution_count": null,
   "metadata": {
    "id": "yan7UJG8uV0z"
   },
   "outputs": [],
   "source": [
    "import pandas as pd\n",
    "import matplotlib.pyplot as plt\n",
    "from sklearn.model_selection import train_test_split\n",
    "\n",
    "import tensorflow as tf\n",
    "# from tensorflow.keras.layers import Dropout\n",
    "# from tensorflow.keras.regularizers import l2\n",
    "from tensorflow.keras.callbacks import EarlyStopping"
   ]
  },
  {
   "cell_type": "code",
   "execution_count": null,
   "metadata": {},
   "outputs": [],
   "source": [
    "# Select training data and MAE threshold\n",
    "load_filename = '../Training_Data/Sample_Training_Data_PH2.csv'\n",
    "mae_threshold = 0.5"
   ]
  },
  {
   "cell_type": "code",
   "execution_count": null,
   "metadata": {
    "id": "daA4RTebv4xW"
   },
   "outputs": [],
   "source": [
    "data = pd.read_csv(load_filename)\n",
    "\n",
    "X = data.iloc[:, :4].values\n",
    "y = data.iloc[:, 5].values\n",
    "\n",
    "X_train, X_test, y_train, y_test = train_test_split(X, y, test_size=0.1, random_state=42)\n",
    "X_train, X_val, y_train, y_val = train_test_split(X_train, y_train, test_size=0.2, random_state=42)"
   ]
  },
  {
   "cell_type": "code",
   "execution_count": null,
   "metadata": {},
   "outputs": [],
   "source": [
    "# The Neural Network is trained repeatedly until the MAE is lower than the threshold. \n",
    "# The training process will result in different accuracies because the stochastic gradient descent \n",
    "# initialises weights randomly and tries to optimise from there.\n",
    "\n",
    "def create_and_train_model(X_train, y_train, X_val, y_val):\n",
    "\n",
    "    model = tf.keras.Sequential([\n",
    "        tf.keras.layers.Dense(64, activation='tanh', input_shape=(4,)),\n",
    "        tf.keras.layers.Dense(64, activation='tanh'),\n",
    "        tf.keras.layers.Dense(1)\n",
    "    ])\n",
    "\n",
    "    model.compile(optimizer='adam', loss='mean_squared_error', metrics=['mae'])\n",
    "    early_stopping = EarlyStopping(monitor='val_mae', patience=2, verbose=0, restore_best_weights=True)\n",
    "\n",
    "    history = model.fit(X_train, y_train, epochs=100, validation_data=(X_val, y_val), verbose=0, callbacks=[early_stopping])\n",
    "\n",
    "    return model, history\n",
    "\n",
    "def evaluate_model(model, X_test, y_test):\n",
    "    test_loss, test_mae = model.evaluate(X_test, y_test, verbose=0)\n",
    "    return test_loss, test_mae\n",
    "\n",
    "best_mae = float('inf')\n",
    "best_model = None\n",
    "attempts = 0\n",
    "\n",
    "while best_mae >= mae_threshold:\n",
    "    attempts += 1\n",
    "    print(f\"Training attempt {attempts}\")\n",
    "\n",
    "    model, history = create_and_train_model(X_train, y_train, X_val, y_val)\n",
    "    test_loss, test_mae = evaluate_model(model, X_test, y_test)\n",
    "    \n",
    "    print(f\"Test MAE: {test_mae}\")\n",
    "    \n",
    "    if test_mae < best_mae:\n",
    "        best_mae = test_mae\n",
    "        best_model = model\n",
    "\n",
    "results = pd.DataFrame({\n",
    "    'Metric': ['Loss', 'Mean Absolute Error (MAE)'],\n",
    "    'Value': [test_loss, best_mae]\n",
    "})\n",
    "\n",
    "print(\"Best model found:\")\n",
    "display(results)"
   ]
  },
  {
   "cell_type": "code",
   "execution_count": null,
   "metadata": {},
   "outputs": [],
   "source": [
    "model.save('../Models/Sample_Model_PH2.keras')"
   ]
  },
  {
   "cell_type": "code",
   "execution_count": null,
   "metadata": {
    "colab": {
     "base_uri": "https://localhost:8080/",
     "height": 112
    },
    "id": "NOd1QdkNwHYA",
    "outputId": "d99ab160-fcfa-4774-9a91-8871efb3d0b8"
   },
   "outputs": [],
   "source": [
    "# Evaluate the model on the test set\n",
    "test_loss, test_mae = model.evaluate(X_test, y_test, verbose=0)\n",
    "\n",
    "results = pd.DataFrame({\n",
    "    'Metric': ['Loss', 'Mean Absolute Error (MAE)'],\n",
    "    'Value': [test_loss, test_mae]\n",
    "})\n",
    "\n",
    "display(results)"
   ]
  },
  {
   "cell_type": "code",
   "execution_count": null,
   "metadata": {
    "colab": {
     "base_uri": "https://localhost:8080/",
     "height": 507
    },
    "id": "iKodsf9HxxuA",
    "outputId": "dbd631ce-810e-42ce-dd9f-0623b907394a"
   },
   "outputs": [],
   "source": [
    "plt.figure(figsize=(10, 5))\n",
    "\n",
    "plt.subplot(1, 2, 1)\n",
    "plt.plot(history.history['loss'], label='Training MSE')\n",
    "plt.plot(history.history['val_loss'], label='Validation MSE')\n",
    "plt.xlabel('Epoch')\n",
    "plt.ylabel('MSE')\n",
    "plt.title('Training and Validation MSE')\n",
    "plt.legend()\n",
    "\n",
    "plt.subplot(1, 2, 2)\n",
    "plt.plot(history.history['mae'], label='Training MAE')\n",
    "plt.plot(history.history['val_mae'], label='Validation MAE')\n",
    "plt.xlabel('Epoch')\n",
    "plt.ylabel('MAE')\n",
    "plt.title('Training and Validation MAE')\n",
    "plt.legend()\n",
    "\n",
    "plt.tight_layout()\n",
    "plt.show()"
   ]
  },
  {
   "cell_type": "code",
   "execution_count": null,
   "metadata": {
    "colab": {
     "base_uri": "https://localhost:8080/",
     "height": 442
    },
    "id": "QcmaBHEtQ31P",
    "outputId": "e4b2c75b-8ada-43f0-a99e-876b994874a6"
   },
   "outputs": [],
   "source": [
    "# Make predictions on the test set just to visualise\n",
    "predictions = model.predict(X_test)\n",
    "\n",
    "results_df = pd.DataFrame({\n",
    "    'i_L': X_test[:, 0], \n",
    "    'v_C': X_test[:, 1],\n",
    "    'i_L old': X_test[:, 2],\n",
    "    'v_C_old': X_test[:, 3],\n",
    "    'Predicted': predictions.flatten()\n",
    "})\n",
    "\n",
    "display(results_df)"
   ]
  }
 ],
 "metadata": {
  "colab": {
   "provenance": []
  },
  "kernelspec": {
   "display_name": "Python 3 (ipykernel)",
   "language": "python",
   "name": "python3"
  },
  "language_info": {
   "codemirror_mode": {
    "name": "ipython",
    "version": 3
   },
   "file_extension": ".py",
   "mimetype": "text/x-python",
   "name": "python",
   "nbconvert_exporter": "python",
   "pygments_lexer": "ipython3",
   "version": "3.10.13"
  }
 },
 "nbformat": 4,
 "nbformat_minor": 4
}
