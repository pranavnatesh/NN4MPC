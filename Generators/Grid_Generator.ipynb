{
 "cells": [
  {
   "cell_type": "code",
   "execution_count": null,
   "id": "636fb239-2731-431e-9f6e-4e14809b69db",
   "metadata": {},
   "outputs": [],
   "source": [
    "import numpy as np\n",
    "import scipy.signal\n",
    "from scipy.linalg import block_diag\n",
    "from scipy.optimize import minimize\n",
    "from qpsolvers import solve_qp\n",
    "import qpsolvers\n",
    "import pandas as pd"
   ]
  },
  {
   "cell_type": "code",
   "execution_count": null,
   "id": "23e72513",
   "metadata": {},
   "outputs": [],
   "source": [
    "# Define the step size\n",
    "step_size_x1 = 5e-2\n",
    "step_size_x2 = 5e-2\n",
    "\n",
    "# Define the save path\n",
    "save_filename = '../Training_Data/Grid_Fine.csv'"
   ]
  },
  {
   "cell_type": "code",
   "execution_count": null,
   "id": "5dd6455a-cc72-4faf-bd7b-d91466da0659",
   "metadata": {},
   "outputs": [],
   "source": [
    "# Circuit Parameters\n",
    "R1 = 8.9\n",
    "C1 = 220e-6\n",
    "L1 = 1e-4\n",
    "v_i = 12\n",
    "Ts = 2e-5\n",
    "\n",
    "# Continuous-Time State Space Equations\n",
    "Ac = np.array([[0, -1/L1], [1/C1, -1/(R1*C1)]])\n",
    "Bc = np.array([[1/L1], [0]])\n",
    "Cc = np.eye(Ac.shape[0])\n",
    "\n",
    "# Discrete-Time State Space Equations\n",
    "Ad, Bd, _, _, _ = scipy.signal.cont2discrete((Ac, Bc, Cc, 0), Ts)\n",
    "inv_Ad = np.linalg.inv(Ad)"
   ]
  },
  {
   "cell_type": "code",
   "execution_count": null,
   "id": "76d968a9-cca1-43db-b8ab-2a57e8b3c476",
   "metadata": {},
   "outputs": [],
   "source": [
    "finalMatrix = []\n",
    "\n",
    "for x1 in np.arange(0, 10 + step_size_x1, step_size_x1):\n",
    "    for x2 in np.arange(0, 20 + step_size_x2, step_size_x2):\n",
    "        \n",
    "        for u in range(0, 21):\n",
    "\n",
    "            x = np.array([[x1], [x2]])\n",
    "            x_old = inv_Ad @ (x - np.dot(Bd, u))\n",
    "\n",
    "            finalMatrix.append([x1, x2, x_old[0][0], x_old[1][0], u])\n",
    "\n",
    "columnLabels = ['x1', 'x2', 'x1_old', 'x2_old', 'u']\n",
    "finalTable = pd.DataFrame(finalMatrix, columns=columnLabels)\n",
    "display(finalTable)"
   ]
  },
  {
   "cell_type": "code",
   "execution_count": null,
   "id": "cf9680ef-7f5b-4cb0-b0a3-8489a860ee5c",
   "metadata": {},
   "outputs": [],
   "source": [
    "finalTable.to_csv(save_filename, index=False)"
   ]
  }
 ],
 "metadata": {
  "kernelspec": {
   "display_name": "Python 3 (ipykernel)",
   "language": "python",
   "name": "python3"
  },
  "language_info": {
   "codemirror_mode": {
    "name": "ipython",
    "version": 3
   },
   "file_extension": ".py",
   "mimetype": "text/x-python",
   "name": "python",
   "nbconvert_exporter": "python",
   "pygments_lexer": "ipython3",
   "version": "3.10.13"
  }
 },
 "nbformat": 4,
 "nbformat_minor": 5
}
